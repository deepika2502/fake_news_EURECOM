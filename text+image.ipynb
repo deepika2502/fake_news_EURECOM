{
 "cells": [
  {
   "cell_type": "markdown",
   "id": "6b6ed459",
   "metadata": {},
   "source": [
    "# Install required packages"
   ]
  },
  {
   "cell_type": "code",
   "execution_count": null,
   "id": "14269106",
   "metadata": {},
   "outputs": [],
   "source": [
    "#Installing required repositories\n",
    "!pip install sentence-transformers\n",
    "!sudo apt install tesseract-ocr\n",
    "!pip3 install pytesseract"
   ]
  },
  {
   "cell_type": "markdown",
   "id": "dba19322",
   "metadata": {},
   "source": [
    "# Import Necessary libraries"
   ]
  },
  {
   "cell_type": "code",
   "execution_count": null,
   "id": "f792b5bf",
   "metadata": {},
   "outputs": [],
   "source": [
    "import torch\n",
    "import torchvision.models as models\n",
    "from torchvision import datasets, transforms as T\n",
    "from torchvision.datasets import FakeData\n",
    "from sentence_transformers import SentenceTransformer\n",
    "from torch.utils.data import DataLoader, Dataset\n",
    "from oauth2client.client import GoogleCredentials\n",
    "from torchvision import datasets, transforms\n",
    "from PIL import Image\n",
    "import torch.nn as nn\n",
    "import torch.nn.functional as F\n",
    "import matplotlib.pyplot as plt\n",
    "import os\n",
    "import pandas as pd\n",
    "import numpy as np\n",
    "from torch import Tensor\n",
    "from torch.nn import Linear\n",
    "from torch.nn import ReLU\n",
    "from torch.nn import Softmax\n",
    "from torch.nn import Module\n",
    "from torch.optim import SGD\n",
    "from torch.nn import CrossEntropyLoss\n",
    "from torch.nn.init import kaiming_uniform_\n",
    "from torch.nn.init import xavier_uniform_\n",
    "from sklearn.metrics import accuracy_score, classification_report\n"
   ]
  },
  {
   "cell_type": "code",
   "execution_count": null,
   "id": "f85be8e6",
   "metadata": {},
   "outputs": [],
   "source": [
    "from PIL import ImageFile\n",
    "ImageFile.LOAD_TRUNCATED_IMAGES = True\n"
   ]
  },
  {
   "cell_type": "code",
   "execution_count": null,
   "id": "3f47b959",
   "metadata": {},
   "outputs": [],
   "source": [
    "import warnings\n",
    "warnings.filterwarnings(\"ignore\")\n",
    "\n",
    "plt.ion() \n",
    "\n",
    "\n",
    "if torch.cuda.is_available():\n",
    "    device = torch.device('cuda')\n",
    "else:\n",
    "    device = torch.device('cpu')\n",
    "CUDA_LAUNCH_BLOCKING=1"
   ]
  },
  {
   "cell_type": "markdown",
   "id": "e1f82be4",
   "metadata": {},
   "source": [
    "# Data exploration"
   ]
  },
  {
   "cell_type": "code",
   "execution_count": null,
   "id": "f3c03207",
   "metadata": {},
   "outputs": [],
   "source": [
    "path =  'data.csv'\n",
    "df = pd.read_csv(path)"
   ]
  },
  {
   "cell_type": "code",
   "execution_count": null,
   "id": "44932cc1",
   "metadata": {},
   "outputs": [],
   "source": [
    "df.count()"
   ]
  },
  {
   "cell_type": "code",
   "execution_count": null,
   "id": "31d21f17",
   "metadata": {},
   "outputs": [],
   "source": [
    "print(df['2_way_label'].unique())\n",
    "print(df['3_way_label'].unique())\n",
    "print(df['6_way_label'].unique())"
   ]
  },
  {
   "cell_type": "code",
   "execution_count": null,
   "id": "9033ae7c",
   "metadata": {},
   "outputs": [],
   "source": [
    "print(\"Class 0 in 2 way: \"+ str(sum(df['2_way_label'] == 0)))\n",
    "print(\"Class 1 in 2 way: \"+ str(sum(df['2_way_label'] == 1)))\n",
    "print(\"\\n\\nClass 0 in 3 way: \"+ str(sum(df['3_way_label'] == 0)))\n",
    "print(\"Class 1 in 3 way: \"+ str(sum(df['3_way_label'] == 1)))\n",
    "print(\"Class 2 in 3 way: \"+ str(sum(df['3_way_label'] == 2)))\n",
    "print(\"\\n\\nClass 0 in 6 way: \"+ str(sum(df['6_way_label'] == 0)))\n",
    "print(\"Class 1 in 6 way: \"+ str(sum(df['6_way_label'] == 1)))\n",
    "print(\"Class 2 in 6 way: \"+ str(sum(df['6_way_label'] == 2)))\n",
    "print(\"Class 3 in 6 way: \"+ str(sum(df['6_way_label'] == 3)))\n",
    "print(\"Class 4 in 6 way: \"+ str(sum(df['6_way_label'] == 4)))\n",
    "print(\"Class 5 in 6 way: \"+ str(sum(df['6_way_label'] == 5)))"
   ]
  },
  {
   "cell_type": "code",
   "execution_count": null,
   "id": "77c930d6",
   "metadata": {},
   "outputs": [],
   "source": [
    "df['hasImage'].isnull().any()"
   ]
  },
  {
   "cell_type": "code",
   "execution_count": null,
   "id": "003302c2",
   "metadata": {},
   "outputs": [],
   "source": [
    "df['clean_title'].isnull().any()"
   ]
  },
  {
   "cell_type": "markdown",
   "id": "aedce0ea",
   "metadata": {},
   "source": [
    "# Sentence BERT Embeddings"
   ]
  },
  {
   "cell_type": "code",
   "execution_count": null,
   "id": "3e9742e7",
   "metadata": {},
   "outputs": [],
   "source": [
    "#import model for SBERT\n",
    "from sentence_transformers import SentenceTransformer\n",
    "sentence_model = SentenceTransformer('all-mpnet-base-v2')"
   ]
  },
  {
   "cell_type": "code",
   "execution_count": null,
   "id": "393d48f8",
   "metadata": {},
   "outputs": [],
   "source": [
    "#Encode the sentences to extract embeddings\n",
    "sentence = list(df['clean_title'])\n",
    "sentence = sentence_model.encode(sentence)\n",
    "print(sentence.shape)"
   ]
  },
  {
   "cell_type": "markdown",
   "id": "fc970a3c",
   "metadata": {},
   "source": [
    "# Image embeddings"
   ]
  },
  {
   "cell_type": "code",
   "execution_count": null,
   "id": "19e775f2",
   "metadata": {},
   "outputs": [],
   "source": [
    "resnet = models.resnet50(pretrained=True)\n",
    "image_model = torch.nn.Sequential(*list(resnet.children())[:-1])\n",
    "image_model.cuda()"
   ]
  },
  {
   "cell_type": "code",
   "execution_count": null,
   "id": "ff9b8e38",
   "metadata": {},
   "outputs": [],
   "source": [
    "#Apply transformations to the image\n",
    "class LoadImage(Dataset):\n",
    "\n",
    "    def __init__(self, root, csv_path, transform=None):\n",
    "        self.root = root\n",
    "        self.image_dir = root\n",
    "        self.csv_path = csv_path\n",
    "        self.image_files = pd.read_csv(csv_path).iloc[:, 5]\n",
    "        self.transform = transform\n",
    "\n",
    "    def __len__(self):\n",
    "        #return len(self.data) #self.data is not defined\n",
    "        return len(self.image_files)\n",
    "\n",
    "    def __getitem__(self, index):\n",
    "        image = Image.open('images/' + self.image_files[index] + '.jpg').convert(\"RGB\")\n",
    "        #label = self.data[index] # self.data is not defined\n",
    "        #image = transform(image)\n",
    "        image = self.transform(image)\n",
    "        return (image)"
   ]
  },
  {
   "cell_type": "code",
   "execution_count": null,
   "id": "315d80cc",
   "metadata": {},
   "outputs": [],
   "source": [
    "transform = T.Compose([T.Resize(256), T.CenterCrop(224), T.ToTensor(), \n",
    "                       T.Normalize(mean=[0.485, 0.456, 0.406], std=[0.229, 0.224, 0.225])])"
   ]
  },
  {
   "cell_type": "code",
   "execution_count": null,
   "id": "1256ff8a",
   "metadata": {},
   "outputs": [],
   "source": [
    "dset = LoadImage('images',path, transform= transform)\n",
    "im_loader = DataLoader(dset, batch_size=64, shuffle=False)"
   ]
  },
  {
   "cell_type": "code",
   "execution_count": null,
   "id": "063024d5",
   "metadata": {},
   "outputs": [],
   "source": [
    "#Feature extraction\n",
    "image_model.eval()\n",
    "image_embeddings = []\n",
    "for batch in im_loader:\n",
    "  #image = batch\n",
    "  with torch.no_grad(): # we don't need the gradients because we are not training\n",
    "    # both the image_model and images need to be on the same device to compute (here, they are on GPU with .cuda() function).\n",
    "    output = image_model(batch.cuda()) # shape (batch_size, 512, 1, 1)\n",
    "  output = output.squeeze() # shape (btach_size, 512)\n",
    "  image_embeddings+=output"
   ]
  },
  {
   "cell_type": "code",
   "execution_count": null,
   "id": "3604f5f9",
   "metadata": {},
   "outputs": [],
   "source": [
    "print(len(image_embeddings))"
   ]
  },
  {
   "cell_type": "code",
   "execution_count": null,
   "id": "7e803c86",
   "metadata": {},
   "outputs": [],
   "source": [
    "image_embeddings = (np.array([i.cpu().detach().numpy() for i in image_embeddings])) \n",
    "image_embeddings = torch.tensor(image_embeddings)\n",
    "image_embeddings.shape"
   ]
  },
  {
   "cell_type": "markdown",
   "id": "22979eb2",
   "metadata": {},
   "source": [
    "# Combine Embeddings"
   ]
  },
  {
   "cell_type": "code",
   "execution_count": null,
   "id": "0025f6fe",
   "metadata": {},
   "outputs": [],
   "source": [
    "print(image_embeddings.shape)\n",
    "print(sentence.shape)"
   ]
  },
  {
   "cell_type": "code",
   "execution_count": null,
   "id": "f023b99c",
   "metadata": {},
   "outputs": [],
   "source": [
    "#Zero Padding\n",
    "sentence_embedding = []\n",
    "for i in sentence:\n",
    "    pad_arr = np.pad(i, (0, 2048-i.shape[0]), 'constant')\n",
    "    sentence_embedding.append(pad_arr)\n",
    "sentence_embedding = np.asarray(sentence_embedding)"
   ]
  },
  {
   "cell_type": "code",
   "execution_count": null,
   "id": "54800ec4",
   "metadata": {},
   "outputs": [],
   "source": [
    "combined_embeddings = []\n",
    "for i in range(len(image_embeddings)):\n",
    "  #embedding = np.append(image_embeddings[i].cpu().detach().numpy(), sentence[i])\n",
    "  #embedding = np.average(np.array([image_embeddings[i].cpu().detach().numpy(), sentence[i]]), axis=0)\n",
    "  embedding = np.minimum(image_embeddings[i].cpu().detach().numpy(), sentence_embedding[i])\n",
    "  combined_embeddings.append(embedding)  \n"
   ]
  },
  {
   "cell_type": "code",
   "execution_count": null,
   "id": "cf3d4d5e",
   "metadata": {},
   "outputs": [],
   "source": [
    "print(len(combined_embeddings), len(combined_embeddings[0]))"
   ]
  },
  {
   "cell_type": "code",
   "execution_count": null,
   "id": "02757d06",
   "metadata": {},
   "outputs": [],
   "source": [
    "combined_embeddings = np.asarray(combined_embeddings)\n",
    "combined_embeddings = torch.tensor(np.array([combined_embeddings]))"
   ]
  },
  {
   "cell_type": "code",
   "execution_count": null,
   "id": "0b736c92",
   "metadata": {},
   "outputs": [],
   "source": [
    "print(combined_embeddings.shape)\n",
    "print(combined_embeddings.shape[2])\n",
    "print(combined_embeddings.type)"
   ]
  },
  {
   "cell_type": "markdown",
   "id": "17b54605",
   "metadata": {},
   "source": [
    "# Dataset and Dataloader using Pytorch"
   ]
  },
  {
   "cell_type": "code",
   "execution_count": null,
   "id": "05a1647d",
   "metadata": {},
   "outputs": [],
   "source": [
    "class ImageSentenceDataset(Dataset):\n",
    "\n",
    "    def __init__(self, csv_path, embedding, transform = transforms.ToTensor()):\n",
    "        self.csv_path = csv_path\n",
    "        self.transform = transform\n",
    "        self.embeddings = embedding\n",
    "        self.labels = pd.read_csv(csv_path).iloc[:, 15]\n",
    "\n",
    "    def __len__(self):\n",
    "        return len(self.labels)\n",
    "\n",
    "    def __getitem__(self, index):\n",
    "        #Sentence\n",
    "        label = self.labels[index]\n",
    "        embedding = self.embeddings[index]\n",
    "        return (embedding, label)"
   ]
  },
  {
   "cell_type": "code",
   "execution_count": null,
   "id": "84ee56cc",
   "metadata": {},
   "outputs": [],
   "source": [
    "path =  'data.csv'"
   ]
  },
  {
   "cell_type": "code",
   "execution_count": null,
   "id": "91ba9904",
   "metadata": {},
   "outputs": [],
   "source": [
    "custom_dataset_from_csv = ImageSentenceDataset(path,combined_embeddings[0],\n",
    "                                               transform= transform)"
   ]
  },
  {
   "cell_type": "code",
   "execution_count": null,
   "id": "7bee53ef",
   "metadata": {},
   "outputs": [],
   "source": [
    "print(len(custom_dataset_from_csv))"
   ]
  },
  {
   "cell_type": "code",
   "execution_count": null,
   "id": "b043f9c1",
   "metadata": {},
   "outputs": [],
   "source": [
    "#Train and test splits\n",
    "train_set, test_set, val_set = torch.utils.data.random_split(custom_dataset_from_csv, [17622-3000, 1500, 1500])"
   ]
  },
  {
   "cell_type": "code",
   "execution_count": null,
   "id": "1eff3f6e",
   "metadata": {},
   "outputs": [],
   "source": [
    "print(len(train_set), len(test_set), len(val_set))"
   ]
  },
  {
   "cell_type": "code",
   "execution_count": null,
   "id": "3d0d1fe2",
   "metadata": {},
   "outputs": [],
   "source": [
    "custom_dataset_loader = torch.utils.data.DataLoader(dataset=train_set,\n",
    "                                                    batch_size=28,\n",
    "                                                    shuffle=False)"
   ]
  },
  {
   "cell_type": "code",
   "execution_count": null,
   "id": "420565fd",
   "metadata": {},
   "outputs": [],
   "source": [
    "#Just confirm what you see here\n",
    "for em, label in (custom_dataset_loader):\n",
    "  print(em, em.shape)\n",
    "  break"
   ]
  },
  {
   "cell_type": "code",
   "execution_count": null,
   "id": "d4903f02",
   "metadata": {},
   "outputs": [],
   "source": [
    "#Define MLP\n",
    "class MLP(Module):\n",
    "    # define model elements\n",
    "    def __init__(self, n_inputs):\n",
    "        super(MLP, self).__init__()\n",
    "        # input to first hidden layer\n",
    "        self.hidden1 = Linear(n_inputs, 100)\n",
    "        kaiming_uniform_(self.hidden1.weight, nonlinearity='relu')\n",
    "        self.act1 = ReLU()\n",
    "        # second hidden layer\n",
    "        self.hidden2 = Linear(100, 30)\n",
    "        kaiming_uniform_(self.hidden2.weight, nonlinearity='relu')\n",
    "        self.act2 = ReLU()\n",
    "        self.hidden3 = Linear(30, 6)\n",
    "        kaiming_uniform_(self.hidden3.weight, nonlinearity='relu')\n",
    "        self.act3 = ReLU()\n",
    "        # third hidden layer and output\n",
    "        self.hidden4 = Linear(6, 6)\n",
    "        xavier_uniform_(self.hidden4.weight)\n",
    "        self.act4 = Softmax(dim=1)\n",
    "\n",
    "    # forward propagate input\n",
    "    def forward(self, X):\n",
    "        # input to first hidden layer\n",
    "        X = self.hidden1(X)\n",
    "        X = self.act1(X)\n",
    "        # second hidden layer\n",
    "        X = self.hidden2(X)\n",
    "        X = self.act2(X)\n",
    "        # output layer\n",
    "        X = self.hidden3(X)\n",
    "        X = self.act3(X)\n",
    "        X = self.hidden4(X)\n",
    "        X = self.act4(X)\n",
    "        return X"
   ]
  },
  {
   "cell_type": "code",
   "execution_count": null,
   "id": "80a6467b",
   "metadata": {},
   "outputs": [],
   "source": [
    "model = MLP(combined_embeddings.shape[2]).to(device)\n",
    "# train the model\n",
    "#train_model(custom_dataset_loader, model)\n",
    "optimizer = torch.optim.Adam(model.parameters(), amsgrad = True)\n",
    "criterion = nn.CrossEntropyLoss()"
   ]
  },
  {
   "cell_type": "code",
   "execution_count": null,
   "id": "83c37e1d",
   "metadata": {},
   "outputs": [],
   "source": [
    "#Define a training function\n",
    "def train(epoch, log_interval=200):\n",
    "    # Set model to training mode\n",
    "    model.train()\n",
    "    for epoch in range(epoch):\n",
    "        # Loop over each batch from the training set\n",
    "        for batch_idx, (data, target) in enumerate(custom_dataset_loader):\n",
    "            # Copy data to GPU if needed\n",
    "            data = data.to(device)\n",
    "            target = target.to(device)\n",
    "            # Zero gradient buffers\n",
    "            optimizer.zero_grad() \n",
    "            # Pass data through the network\n",
    "            output = model(data)\n",
    "            # Calculate loss\n",
    "            loss = criterion(output, target)\n",
    "            # Backpropagate\n",
    "            loss.backward()        \n",
    "            # Update weights\n",
    "            optimizer.step()\n",
    "            \n",
    "            print('Train Epoch: {} [{}/{} ({:.0f}%)]\\tLoss: {:.6f}'.format(\n",
    "                    epoch, batch_idx * len(data), len(custom_dataset_loader.dataset),\n",
    "                    100. * batch_idx / len(custom_dataset_loader), loss.data.item()))\n",
    "\n"
   ]
  },
  {
   "cell_type": "code",
   "execution_count": null,
   "id": "c8b3ca8b",
   "metadata": {},
   "outputs": [],
   "source": [
    "train(epoch=100)"
   ]
  },
  {
   "cell_type": "markdown",
   "id": "6a9ba19c",
   "metadata": {},
   "source": [
    "# Evaluation"
   ]
  },
  {
   "cell_type": "code",
   "execution_count": null,
   "id": "16a6b338",
   "metadata": {},
   "outputs": [],
   "source": [
    "#Evaluation of model\n",
    "def evaluate_model(test_dl, model):\n",
    "    predictions, actuals = list(), list()\n",
    "    for i, (inputs, targets) in enumerate(test_dl):\n",
    "        # evaluate the model on the test set\n",
    "        inputs = inputs.to(device)\n",
    "        targets = targets.to(device)\n",
    "\n",
    "        yhat = model(inputs)\n",
    "        # retrieve numpy array\n",
    "        yhat = yhat.cpu().detach().numpy()\n",
    "        actual = targets.cpu().numpy()\n",
    "        # convert to class labels\n",
    "        yhat = np.argmax(yhat, axis=1)\n",
    "        # reshape for stacking\n",
    "        actual = actual.reshape((len(actual), 1))\n",
    "        yhat = yhat.reshape((len(yhat), 1))\n",
    "        # store\n",
    "        predictions.append(yhat)\n",
    "        actuals.append(actual)\n",
    "    predictions, actuals = np.vstack(predictions), np.vstack(actuals)\n",
    "    # calculate accuracy\n",
    "    acc = accuracy_score(actuals, predictions)\n",
    "    report = classification_report(actuals, predictions)\n",
    "    return acc, report"
   ]
  },
  {
   "cell_type": "code",
   "execution_count": null,
   "id": "173894d7",
   "metadata": {},
   "outputs": [],
   "source": [
    "test_dataset_loader = torch.utils.data.DataLoader(dataset=test_set,\n",
    "                                                    batch_size=1024,\n",
    "                                                    shuffle=False)"
   ]
  },
  {
   "cell_type": "code",
   "execution_count": null,
   "id": "d3c018b9",
   "metadata": {},
   "outputs": [],
   "source": [
    "acc, report = evaluate_model(test_dataset_loader, model)\n",
    "print(\"Accuracy and classification report\")\n",
    "print(acc)\n",
    "print(report)"
   ]
  },
  {
   "cell_type": "code",
   "execution_count": null,
   "id": "102564a9",
   "metadata": {},
   "outputs": [],
   "source": [
    "val_dataset_loader = torch.utils.data.DataLoader(dataset=val_set,\n",
    "                                                    batch_size=64,\n",
    "                                                    shuffle=False)\n"
   ]
  },
  {
   "cell_type": "code",
   "execution_count": null,
   "id": "e80b8f5f",
   "metadata": {},
   "outputs": [],
   "source": [
    "acc, report = evaluate_model(val_dataset_loader, model)\n",
    "print(\"Accuracy and classification report\")\n",
    "print(acc)\n",
    "print(report)"
   ]
  },
  {
   "cell_type": "markdown",
   "id": "b8a5fbd9",
   "metadata": {},
   "source": [
    "# SVM"
   ]
  },
  {
   "cell_type": "code",
   "execution_count": null,
   "id": "5c5725e6",
   "metadata": {},
   "outputs": [],
   "source": [
    "#Obtain labels\n",
    "labels = custom_dataset_from_csv.labels\n",
    "embeddings = custom_dataset_from_csv.embeddings\n",
    "print(labels.shape, embeddings.shape)"
   ]
  }
 ],
 "metadata": {
  "kernelspec": {
   "display_name": "Python 3 (ipykernel)",
   "language": "python",
   "name": "python3"
  },
  "language_info": {
   "codemirror_mode": {
    "name": "ipython",
    "version": 3
   },
   "file_extension": ".py",
   "mimetype": "text/x-python",
   "name": "python",
   "nbconvert_exporter": "python",
   "pygments_lexer": "ipython3",
   "version": "3.8.10"
  }
 },
 "nbformat": 4,
 "nbformat_minor": 5
}
